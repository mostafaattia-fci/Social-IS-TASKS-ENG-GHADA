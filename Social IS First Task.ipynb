{
 "cells": [
  {
   "cell_type": "code",
   "execution_count": 2,
   "id": "490207d2",
   "metadata": {},
   "outputs": [
    {
     "name": "stdout",
     "output_type": "stream",
     "text": [
      "['b', 'd', 'c']\n"
     ]
    }
   ],
   "source": [
    "import networkx as nx\n",
    "G = nx.Graph()\n",
    "G.add_edges_from([\n",
    "    ('a', 'b'),\n",
    "    ('a', 'd'),\n",
    "    ('c', 'a'),\n",
    "])\n",
    "def get_leaves(graph):\n",
    "    result = []\n",
    "    for node in graph.nodes:\n",
    "        if graph.degree(node) == 1 :\n",
    "            result.append(node)\n",
    "    return result\n",
    "\n",
    "print(get_leaves(G))"
   ]
  },
  {
   "cell_type": "code",
   "execution_count": 3,
   "id": "72b93e8e",
   "metadata": {},
   "outputs": [
    {
     "name": "stdout",
     "output_type": "stream",
     "text": [
      "('a', 3)\n"
     ]
    }
   ],
   "source": [
    "def max_degree(graph):\n",
    "    m = -1 \n",
    "    res = [0,0]\n",
    "    for node in graph.nodes:\n",
    "        if graph.degree(node) > m :\n",
    "            res[0] = node\n",
    "            res[1] = graph.degree(node)\n",
    "            m = graph.degree(node)\n",
    "            \n",
    "    return tuple(res)\n",
    "\n",
    "print(max_degree(G))"
   ]
  },
  {
   "cell_type": "code",
   "execution_count": 4,
   "id": "08d8621f",
   "metadata": {},
   "outputs": [
    {
     "name": "stdout",
     "output_type": "stream",
     "text": [
      "[]\n"
     ]
    }
   ],
   "source": [
    "def mutual_friends(g,n1,n2):\n",
    "    res = []\n",
    "    for i in list(g.neighbors(n1)):\n",
    "        for j in list(g.neighbors(n2)):\n",
    "            if i == j :\n",
    "                res.append(i)\n",
    "    return res\n",
    "print(mutual_friends(G,'b', 'a'))"
   ]
  },
  {
   "cell_type": "code",
   "execution_count": null,
   "id": "67c6a88a",
   "metadata": {},
   "outputs": [],
   "source": []
  }
 ],
 "metadata": {
  "kernelspec": {
   "display_name": "Python 3 (ipykernel)",
   "language": "python",
   "name": "python3"
  },
  "language_info": {
   "codemirror_mode": {
    "name": "ipython",
    "version": 3
   },
   "file_extension": ".py",
   "mimetype": "text/x-python",
   "name": "python",
   "nbconvert_exporter": "python",
   "pygments_lexer": "ipython3",
   "version": "3.9.7"
  }
 },
 "nbformat": 4,
 "nbformat_minor": 5
}
